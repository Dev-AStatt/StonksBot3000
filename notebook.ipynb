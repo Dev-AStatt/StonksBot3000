{
 "cells": [
  {
   "cell_type": "code",
   "execution_count": 2,
   "metadata": {},
   "outputs": [],
   "source": [
    "# Import probably useful stuff\n",
    "import numpy as np  # Math manitpulation \n",
    "    # Documentation: https://numpy.org/doc/stable/\n",
    "import scipy as sp  # Science tools and shizz\n",
    "    # Documentaion: https://scipy.github.io/devdocs/index.html\n",
    "import matplotlib.pyplot as plt # SHWEEEEETTT plotting library\n",
    "    # Documentation: https://matplotlib.org/stable/index.html\n",
    "import requests # Probably going to be super useful - Pulls data from internet pages...\n",
    "    # Documentation: https://docs.python-requests.org/en/latest/\n"
   ]
  },
  {
   "cell_type": "code",
   "execution_count": null,
   "metadata": {},
   "outputs": [],
   "source": []
  },
  {
   "cell_type": "markdown",
   "metadata": {},
   "source": [
    "a;sdlkfja;lskdfja;lsdkfj"
   ]
  },
  {
   "cell_type": "code",
   "execution_count": null,
   "metadata": {},
   "outputs": [],
   "source": [
    "\n"
   ]
  }
 ],
 "metadata": {
  "interpreter": {
   "hash": "7a635e0cc62f5c0f20e0c95d3f6b96ec3facd058256aba9269cd726e2008369d"
  },
  "kernelspec": {
   "display_name": "Python 3.9.5 64-bit",
   "language": "python",
   "name": "python3"
  },
  "language_info": {
   "codemirror_mode": {
    "name": "ipython",
    "version": 3
   },
   "file_extension": ".py",
   "mimetype": "text/x-python",
   "name": "python",
   "nbconvert_exporter": "python",
   "pygments_lexer": "ipython3",
   "version": "3.9.5"
  },
  "orig_nbformat": 4
 },
 "nbformat": 4,
 "nbformat_minor": 2
}
