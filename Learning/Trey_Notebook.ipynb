{
 "cells": [
  {
   "cell_type": "code",
   "execution_count": null,
   "metadata": {},
   "outputs": [],
   "source": [
    "# Import probably useful stuff\n",
    "import numpy as np  # Math manitpulation \n",
    "    # Documentation: https://numpy.org/doc/stable/\n",
    "import scipy as sp  # Science tools and shizz\n",
    "    # Documentaion: https://scipy.github.io/devdocs/index.html\n",
    "import matplotlib.pyplot as plt # SHWEEEEETTT plotting library\n",
    "    # Documentation: https://matplotlib.org/stable/index.html\n",
    "import requests # Probably going to be super useful - Pulls data from internet pages...\n",
    "    # Documentation: https://docs.python-requests.org/en/latest/"
   ]
  },
  {
   "cell_type": "markdown",
   "metadata": {},
   "source": [
    "THIS IS GOING TO BE AWESOEM!! "
   ]
  }
 ],
 "metadata": {
  "language_info": {
   "name": "python"
  },
  "orig_nbformat": 4
 },
 "nbformat": 4,
 "nbformat_minor": 2
}
